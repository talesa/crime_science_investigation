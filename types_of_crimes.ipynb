{
 "cells": [
  {
   "cell_type": "code",
   "execution_count": 2,
   "metadata": {
    "collapsed": false
   },
   "outputs": [],
   "source": [
    "from __future__ import division\n",
    "\n",
    "import pandas as pd\n",
    "\n",
    "import os"
   ]
  },
  {
   "cell_type": "code",
   "execution_count": 3,
   "metadata": {
    "collapsed": false
   },
   "outputs": [],
   "source": [
    "crimes = pd.DataFrame()\n",
    "\n",
    "mypath = './metropolitan_all'\n",
    "for (dirpath, dirnames, filenames) in os.walk(mypath):\n",
    "    if dirpath is not './metropolitan_all':\n",
    "        for filename in filenames:\n",
    "            if 'csv' in filename and '2015' in filename:\n",
    "                frame = pd.read_csv(dirpath + '/' + filename)\n",
    "                crimes = crimes.append(frame, ignore_index=True)\n"
   ]
  },
  {
   "cell_type": "code",
   "execution_count": 4,
   "metadata": {
    "collapsed": false,
    "scrolled": true
   },
   "outputs": [],
   "source": [
    "crimes = crimes.dropna(axis=0, subset=['LSOA code'])"
   ]
  },
  {
   "cell_type": "code",
   "execution_count": 5,
   "metadata": {
    "collapsed": false,
    "scrolled": false
   },
   "outputs": [
    {
     "name": "stdout",
     "output_type": "stream",
     "text": [
      "1.82%\tBicycle theft\n",
      "7.34%\tBurglary\n",
      "11.80%\tOther theft\n",
      "3.67%\tTheft from the person\n",
      "24.19%\tAnti-social behaviour\n",
      "4.36%\tPublic order\n",
      "4.57%\tShoplifting\n",
      "0.92%\tOther crime\n",
      "3.70%\tDrugs\n",
      "8.66%\tVehicle crime\n",
      "19.80%\tViolence and sexual offences\n",
      "6.48%\tCriminal damage and arson\n",
      "0.38%\tPossession of weapons\n",
      "2.28%\tRobbery\n"
     ]
    }
   ],
   "source": [
    "for i in crimes['Crime type'].drop_duplicates():\n",
    "    print '{0:.2f}%'.format(len(crimes[crimes['Crime type'] == i])/len(crimes)*100) + '\\t' + i"
   ]
  }
 ],
 "metadata": {
  "kernelspec": {
   "display_name": "Python 2",
   "language": "python",
   "name": "python2"
  },
  "language_info": {
   "codemirror_mode": {
    "name": "ipython",
    "version": 2
   },
   "file_extension": ".py",
   "mimetype": "text/x-python",
   "name": "python",
   "nbconvert_exporter": "python",
   "pygments_lexer": "ipython2",
   "version": "2.7.10"
  }
 },
 "nbformat": 4,
 "nbformat_minor": 0
}
