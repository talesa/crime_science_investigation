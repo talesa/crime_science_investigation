{
 "cells": [
  {
   "cell_type": "code",
   "execution_count": 247,
   "metadata": {
    "collapsed": false
   },
   "outputs": [],
   "source": [
    "%matplotlib inline\n",
    "import pandas as pd\n",
    "import geopandas as gpd\n",
    "import numpy as np\n",
    "import matplotlib.pyplot as plt\n",
    "import matplotlib.cm as cm\n",
    "from geopy.distance import great_circle\n",
    "from matplotlib.colors import Normalize, LinearSegmentedColormap\n",
    "from matplotlib.collections import PatchCollection\n",
    "from shapely.geometry import Point, Polygon, MultiPoint, MultiPolygon\n",
    "from shapely.prepared import prep\n",
    "from pysal.esda.mapclassify import Natural_Breaks as nb\n",
    "from descartes import PolygonPatch\n",
    "import os\n",
    "import mplleaflet\n",
    "from itertools import chain\n",
    "import seaborn as sns\n",
    "import statsmodels"
   ]
  },
  {
   "cell_type": "code",
   "execution_count": 2,
   "metadata": {
    "collapsed": false
   },
   "outputs": [
    {
     "data": {
      "text/plain": [
       "631378"
      ]
     },
     "execution_count": 2,
     "metadata": {},
     "output_type": "execute_result"
    }
   ],
   "source": [
    "crimes = pd.DataFrame()\n",
    "\n",
    "mypath = './metropolitan_all'\n",
    "for (dirpath, dirnames, filenames) in os.walk(mypath):\n",
    "    if dirpath is not './metropolitan_all':\n",
    "        for filename in filenames:\n",
    "            if 'csv' in filename and '2015' in filename:\n",
    "                frame = pd.read_csv(dirpath + '/' + filename)\n",
    "                crimes = crimes.append(frame, ignore_index=True)\n",
    "\n",
    "len(crimes)"
   ]
  },
  {
   "cell_type": "code",
   "execution_count": 3,
   "metadata": {
    "collapsed": false,
    "scrolled": true
   },
   "outputs": [
    {
     "data": {
      "text/plain": [
       "623327"
      ]
     },
     "execution_count": 3,
     "metadata": {},
     "output_type": "execute_result"
    }
   ],
   "source": [
    "crimes = crimes.dropna(axis=0, subset=['LSOA code'])\n",
    "len(crimes)"
   ]
  },
  {
   "cell_type": "code",
   "execution_count": 4,
   "metadata": {
    "collapsed": false
   },
   "outputs": [
    {
     "data": {
      "text/plain": [
       "623327"
      ]
     },
     "execution_count": 4,
     "metadata": {},
     "output_type": "execute_result"
    }
   ],
   "source": [
    "crimes = crimes[['Month','LSOA code',\"Longitude\",\"Latitude\",'Crime type']]\n",
    "all_crimes = crimes\n",
    "len(all_crimes)"
   ]
  },
  {
   "cell_type": "code",
   "execution_count": 6,
   "metadata": {
    "collapsed": false
   },
   "outputs": [
    {
     "data": {
      "text/plain": [
       "5331"
      ]
     },
     "execution_count": 6,
     "metadata": {},
     "output_type": "execute_result"
    }
   ],
   "source": [
    "lsoas = gpd.GeoDataFrame().from_file('./LSOA/LSOA_2011_EW_BGC_V2.shp')\n",
    "lsoas = lsoas.to_crs(epsg=4326)\n",
    "london_bounds = prep(Polygon([(-0.5, 51.3), (-0.5, 51.7), (0.3, 51.7), (0.3, 51.3)]))\n",
    "lsoas_london = [lsoa for index, lsoa in lsoas.iterrows() if london_bounds.contains(lsoa.geometry)]\n",
    "lsoas_london = gpd.GeoDataFrame(lsoas_london)\n",
    "lsoas_london = lsoas_london.dropna(subset=['LSOA11CD'])\n",
    "len(lsoas_london)"
   ]
  },
  {
   "cell_type": "code",
   "execution_count": 7,
   "metadata": {
    "collapsed": false
   },
   "outputs": [],
   "source": [
    "crime_types = list(crimes['Crime type'].drop_duplicates())"
   ]
  },
  {
   "cell_type": "code",
   "execution_count": 8,
   "metadata": {
    "collapsed": false,
    "scrolled": true
   },
   "outputs": [
    {
     "data": {
      "text/plain": [
       "[(0, 'Bicycle theft'),\n",
       " (1, 'Burglary'),\n",
       " (2, 'Other theft'),\n",
       " (3, 'Theft from the person'),\n",
       " (4, 'Anti-social behaviour'),\n",
       " (5, 'Public order'),\n",
       " (6, 'Shoplifting'),\n",
       " (7, 'Other crime'),\n",
       " (8, 'Drugs'),\n",
       " (9, 'Vehicle crime'),\n",
       " (10, 'Violence and sexual offences'),\n",
       " (11, 'Criminal damage and arson'),\n",
       " (12, 'Possession of weapons'),\n",
       " (13, 'Robbery')]"
      ]
     },
     "execution_count": 8,
     "metadata": {},
     "output_type": "execute_result"
    }
   ],
   "source": [
    "list(enumerate(crime_types))"
   ]
  },
  {
   "cell_type": "code",
   "execution_count": 9,
   "metadata": {
    "collapsed": false
   },
   "outputs": [],
   "source": [
    "points = [[row['Longitude'], row['Latitude']] for index, row in all_crimes[['Longitude', 'Latitude']].drop_duplicates().iterrows()]\n",
    "points = [x for x in points if -0.5 < x[0] < 0.5 and 51.2 < x[1] < 51.7]"
   ]
  },
  {
   "cell_type": "code",
   "execution_count": 10,
   "metadata": {
    "collapsed": true
   },
   "outputs": [],
   "source": [
    "romford = [51.5750992,0.1763523]"
   ]
  },
  {
   "cell_type": "code",
   "execution_count": 11,
   "metadata": {
    "collapsed": false
   },
   "outputs": [
    {
     "data": {
      "text/plain": [
       "56447"
      ]
     },
     "execution_count": 11,
     "metadata": {},
     "output_type": "execute_result"
    }
   ],
   "source": [
    "locations = all_crimes[[\"LSOA code\",\"Longitude\",\"Latitude\"]]\n",
    "locations = locations.drop_duplicates()\n",
    "locations = locations.reset_index(drop=1)\n",
    "len(locations)"
   ]
  },
  {
   "cell_type": "code",
   "execution_count": 162,
   "metadata": {
    "collapsed": false
   },
   "outputs": [],
   "source": [
    "distance_from_romford = pd.Series([great_circle(romford, [row['Latitude'], row['Longitude']]).km for index, row in locations.iterrows()])"
   ]
  },
  {
   "cell_type": "code",
   "execution_count": 13,
   "metadata": {
    "collapsed": true
   },
   "outputs": [],
   "source": [
    "locations = pd.concat([locations, distance_from_romford], axis=1)"
   ]
  },
  {
   "cell_type": "code",
   "execution_count": 159,
   "metadata": {
    "collapsed": false
   },
   "outputs": [],
   "source": [
    "locations.columns = ['LSOA', 'Longitude', 'Latitude', 'Dist']"
   ]
  },
  {
   "cell_type": "code",
   "execution_count": 160,
   "metadata": {
    "collapsed": false,
    "scrolled": true
   },
   "outputs": [],
   "source": [
    "locations = locations.sort_values(['Dist']).reset_index().drop('index', axis=1)"
   ]
  },
  {
   "cell_type": "code",
   "execution_count": 161,
   "metadata": {
    "collapsed": false
   },
   "outputs": [
    {
     "data": {
      "text/html": [
       "<div>\n",
       "<table border=\"1\" class=\"dataframe\">\n",
       "  <thead>\n",
       "    <tr style=\"text-align: right;\">\n",
       "      <th></th>\n",
       "      <th>LSOA</th>\n",
       "      <th>Longitude</th>\n",
       "      <th>Latitude</th>\n",
       "      <th>Dist</th>\n",
       "    </tr>\n",
       "  </thead>\n",
       "  <tbody>\n",
       "    <tr>\n",
       "      <th>0</th>\n",
       "      <td>E01002356</td>\n",
       "      <td>0.176273</td>\n",
       "      <td>51.574669</td>\n",
       "      <td>0.048163</td>\n",
       "    </tr>\n",
       "    <tr>\n",
       "      <th>1</th>\n",
       "      <td>E01002356</td>\n",
       "      <td>0.176343</td>\n",
       "      <td>51.574317</td>\n",
       "      <td>0.087004</td>\n",
       "    </tr>\n",
       "  </tbody>\n",
       "</table>\n",
       "</div>"
      ],
      "text/plain": [
       "        LSOA  Longitude   Latitude      Dist\n",
       "0  E01002356   0.176273  51.574669  0.048163\n",
       "1  E01002356   0.176343  51.574317  0.087004"
      ]
     },
     "execution_count": 161,
     "metadata": {},
     "output_type": "execute_result"
    }
   ],
   "source": [
    "locations.head(2)"
   ]
  },
  {
   "cell_type": "code",
   "execution_count": 163,
   "metadata": {
    "collapsed": false
   },
   "outputs": [
    {
     "data": {
      "text/html": [
       "<div>\n",
       "<table border=\"1\" class=\"dataframe\">\n",
       "  <thead>\n",
       "    <tr style=\"text-align: right;\">\n",
       "      <th></th>\n",
       "      <th>Month</th>\n",
       "      <th>LSOA code</th>\n",
       "      <th>Longitude</th>\n",
       "      <th>Latitude</th>\n",
       "      <th>Crime type</th>\n",
       "    </tr>\n",
       "  </thead>\n",
       "  <tbody>\n",
       "    <tr>\n",
       "      <th>0</th>\n",
       "      <td>2015-01</td>\n",
       "      <td>E01000916</td>\n",
       "      <td>-0.106453</td>\n",
       "      <td>51.518207</td>\n",
       "      <td>Bicycle theft</td>\n",
       "    </tr>\n",
       "    <tr>\n",
       "      <th>1</th>\n",
       "      <td>2015-01</td>\n",
       "      <td>E01000914</td>\n",
       "      <td>-0.111497</td>\n",
       "      <td>51.518226</td>\n",
       "      <td>Burglary</td>\n",
       "    </tr>\n",
       "  </tbody>\n",
       "</table>\n",
       "</div>"
      ],
      "text/plain": [
       "     Month  LSOA code  Longitude   Latitude     Crime type\n",
       "0  2015-01  E01000916  -0.106453  51.518207  Bicycle theft\n",
       "1  2015-01  E01000914  -0.111497  51.518226       Burglary"
      ]
     },
     "execution_count": 163,
     "metadata": {},
     "output_type": "execute_result"
    }
   ],
   "source": [
    "crimes.head(2)"
   ]
  },
  {
   "cell_type": "code",
   "execution_count": 125,
   "metadata": {
    "collapsed": true
   },
   "outputs": [],
   "source": [
    "crime_counts = dict()\n",
    "for row_number, val in crimes.iterrows():\n",
    "    key = (\n",
    "            val['Longitude'],\n",
    "            val['Latitude'],\n",
    "            val['Crime type']\n",
    "        )\n",
    "\n",
    "    if crime_counts.has_key(key):\n",
    "        crime_counts[key] = crime_counts[key] + 1\n",
    "    else:\n",
    "        crime_counts[key] = 1"
   ]
  },
  {
   "cell_type": "code",
   "execution_count": 132,
   "metadata": {
    "collapsed": true
   },
   "outputs": [],
   "source": [
    "crimes_count = crimes.groupby(['Longitude', 'Latitude', 'Crime type']).size().reset_index().rename(columns={0:'count'})"
   ]
  },
  {
   "cell_type": "code",
   "execution_count": 182,
   "metadata": {
    "collapsed": false
   },
   "outputs": [],
   "source": [
    "def get_crime_count(lon, lat=None, crime_type_temp = None):\n",
    "    if crime_type_temp == None and lat == None:\n",
    "        return crimes_count[crimes_count['Longitude'] == lon]['count'].sum()\n",
    "    elif crime_type_temp == None:\n",
    "        return crimes_count[crimes_count['Longitude'] == lon][crimes_count['Latitude'] == lat]['count'].sum()\n",
    "    elif lat == None:\n",
    "        return crimes_count[crimes_count['Longitude'] == lon][crimes_count['Crime type'] == crime_type_temp]['count'].sum()\n",
    "    else:\n",
    "        return crimes_count[crimes_count['Longitude'] == lon][crimes_count['Latitude'] == lat][crimes_count['Crime type'] == crime_type_temp]['count'].sum()"
   ]
  },
  {
   "cell_type": "code",
   "execution_count": 308,
   "metadata": {
    "collapsed": false,
    "scrolled": false
   },
   "outputs": [
    {
     "data": {
      "text/plain": [
       "[<matplotlib.lines.Line2D at 0x1ebe9f390>]"
      ]
     },
     "execution_count": 308,
     "metadata": {},
     "output_type": "execute_result"
    },
    {
     "data": {
      "image/png": "[encoded data removed]",
      "text/plain": [
       "<matplotlib.figure.Figure at 0x1eb895050>"
      ]
     },
     "metadata": {},
     "output_type": "display_data"
    }
   ],
   "source": [
    "merged = pd.merge(crimes_count_fp, locations, how='inner', on=['Longitude', 'Latitude']).sort_values(['Dist'])\n",
    "xx = merged['Dist'][merged['Dist'] < 5]\n",
    "yy = merged['count'][merged['Dist'] < 5]\n",
    "yyt = yy/xx\n",
    "plt.plot(xx, yyt)"
   ]
  },
  {
   "cell_type": "code",
   "execution_count": 303,
   "metadata": {
    "collapsed": false,
    "scrolled": true
   },
   "outputs": [],
   "source": [
    "merged_c = pd.merge(crimes, locations, how='inner', on=['Longitude', 'Latitude']).sort_values(['Dist'])\n",
    "xx_c = merged_c['Dist'][merged_c['Dist'] < 6]"
   ]
  },
  {
   "cell_type": "code",
   "execution_count": 304,
   "metadata": {
    "collapsed": false,
    "scrolled": true
   },
   "outputs": [
    {
     "data": {
      "text/plain": [
       "<matplotlib.axes._subplots.AxesSubplot at 0x234960e50>"
      ]
     },
     "execution_count": 304,
     "metadata": {},
     "output_type": "execute_result"
    },
    {
     "data": {
      "image/png": "[encoded data removed]",
      "text/plain": [
       "<matplotlib.figure.Figure at 0x234969d10>"
      ]
     },
     "metadata": {},
     "output_type": "display_data"
    }
   ],
   "source": [
    "sns.kdeplot(xx_c)"
   ]
  },
  {
   "cell_type": "code",
   "execution_count": 299,
   "metadata": {
    "collapsed": true
   },
   "outputs": [],
   "source": [
    "merged_cc = pd.merge(crimes, locations, how='inner', on=['Longitude', 'Latitude']).sort_values(['Dist'])\n",
    "merged_cc = merged_cc[merged_cc['Dist'] < 2]"
   ]
  },
  {
   "cell_type": "code",
   "execution_count": 301,
   "metadata": {
    "collapsed": false,
    "scrolled": false
   },
   "outputs": [
    {
     "data": {
      "text/plain": [
       "<matplotlib.axes._subplots.AxesSubplot at 0x2344aa690>"
      ]
     },
     "execution_count": 301,
     "metadata": {},
     "output_type": "execute_result"
    },
    {
     "data": {
      "image/png": "[encoded data removed]",
      "text/plain": [
       "<matplotlib.figure.Figure at 0x2343e49d0>"
      ]
     },
     "metadata": {},
     "output_type": "display_data"
    }
   ],
   "source": [
    "merged_cc = pd.merge(crimes, locations, how='inner', on=['Longitude', 'Latitude']).sort_values(['Dist'])\n",
    "merged_cc = merged_cc[merged_cc['Dist'] < 2]\n",
    "f, ax = plt.subplots(figsize=(10, 10))\n",
    "sns.kdeplot(merged_cc.Latitude, data2=merged_cc.Longitude, shade=True)"
   ]
  },
  {
   "cell_type": "code",
   "execution_count": null,
   "metadata": {
    "collapsed": true
   },
   "outputs": [],
   "source": [
    "merged_cc = pd.merge(crimes, locations, how='inner', on=['Longitude', 'Latitude']).sort_values(['Dist'])\n",
    "merged_cc = merged_cc[merged_cc['Dist'] < 2]\n",
    "f, ax = plt.subplots(figsize=(10, 10))\n",
    "sns.kdeplot(merged_cc.Latitude, data2=merged_cc.Longitude, shade=True)"
   ]
  }
 ],
 "metadata": {
  "kernelspec": {
   "display_name": "Python 2",
   "language": "python",
   "name": "python2"
  },
  "language_info": {
   "codemirror_mode": {
    "name": "ipython",
    "version": 2
   },
   "file_extension": ".py",
   "mimetype": "text/x-python",
   "name": "python",
   "nbconvert_exporter": "python",
   "pygments_lexer": "ipython2",
   "version": "2.7.10"
  }
 },
 "nbformat": 4,
 "nbformat_minor": 0
}
